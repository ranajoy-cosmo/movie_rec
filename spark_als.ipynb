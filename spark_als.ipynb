{
 "cells": [
  {
   "cell_type": "code",
   "execution_count": 1,
   "metadata": {},
   "outputs": [],
   "source": [
    "from pyspark.sql import SparkSession\n",
    "from pyspark.sql.functions import *\n",
    "from pyspark.sql.types import *\n",
    "from pyspark.ml.evaluation import RegressionEvaluator\n",
    "from pyspark.ml.recommendation import ALS\n",
    "from pyspark.sql import Row\n",
    "import pandas as pd\n",
    "import numpy as np\n",
    "import itertools\n",
    "import os"
   ]
  },
  {
   "cell_type": "code",
   "execution_count": 2,
   "metadata": {},
   "outputs": [],
   "source": [
    "# Starting a spark session locally\n",
    "spark = SparkSession \\\n",
    "    .builder \\\n",
    "    .appName(\"als-reco\") \\\n",
    "    .getOrCreate()"
   ]
  },
  {
   "cell_type": "code",
   "execution_count": 3,
   "metadata": {},
   "outputs": [],
   "source": [
    "movies_file_path = \"data/movies_metadata.csv\"\n",
    "df_movies = spark.read.csv(movies_file_path, header=True).select('id', 'title') \\\n",
    "            .withColumn('id', col('id').cast('int'))\n",
    "\n",
    "df_movies = df_movies.filter(df_movies['id'].isNotNull())"
   ]
  },
  {
   "cell_type": "code",
   "execution_count": 4,
   "metadata": {},
   "outputs": [
    {
     "data": {
      "text/html": [
       "<div>\n",
       "<style scoped>\n",
       "    .dataframe tbody tr th:only-of-type {\n",
       "        vertical-align: middle;\n",
       "    }\n",
       "\n",
       "    .dataframe tbody tr th {\n",
       "        vertical-align: top;\n",
       "    }\n",
       "\n",
       "    .dataframe thead th {\n",
       "        text-align: right;\n",
       "    }\n",
       "</style>\n",
       "<table border=\"1\" class=\"dataframe\">\n",
       "  <thead>\n",
       "    <tr style=\"text-align: right;\">\n",
       "      <th></th>\n",
       "      <th>id</th>\n",
       "      <th>title</th>\n",
       "    </tr>\n",
       "  </thead>\n",
       "  <tbody>\n",
       "    <tr>\n",
       "      <th>0</th>\n",
       "      <td>31357</td>\n",
       "      <td>[{'iso_639_1': 'en', 'name': 'English'}]</td>\n",
       "    </tr>\n",
       "    <tr>\n",
       "      <th>1</th>\n",
       "      <td>11443</td>\n",
       "      <td>[{'iso_639_1': 'en', 'name': 'English'}]</td>\n",
       "    </tr>\n",
       "    <tr>\n",
       "      <th>2</th>\n",
       "      <td>807</td>\n",
       "      <td>[{'iso_639_1': 'en', 'name': 'English'}]</td>\n",
       "    </tr>\n",
       "    <tr>\n",
       "      <th>3</th>\n",
       "      <td>32646</td>\n",
       "      <td>[{'iso_3166_1': 'GB', 'name': 'United Kingdom'...</td>\n",
       "    </tr>\n",
       "    <tr>\n",
       "      <th>4</th>\n",
       "      <td>139408</td>\n",
       "      <td>[{'iso_639_1': 'hu', 'name': 'Magyar'}, {'iso_...</td>\n",
       "    </tr>\n",
       "  </tbody>\n",
       "</table>\n",
       "</div>"
      ],
      "text/plain": [
       "       id                                              title\n",
       "0   31357           [{'iso_639_1': 'en', 'name': 'English'}]\n",
       "1   11443           [{'iso_639_1': 'en', 'name': 'English'}]\n",
       "2     807           [{'iso_639_1': 'en', 'name': 'English'}]\n",
       "3   32646  [{'iso_3166_1': 'GB', 'name': 'United Kingdom'...\n",
       "4  139408  [{'iso_639_1': 'hu', 'name': 'Magyar'}, {'iso_..."
      ]
     },
     "execution_count": 4,
     "metadata": {},
     "output_type": "execute_result"
    }
   ],
   "source": [
    "# There are movie title which are corrupted. Let's find them\n",
    "df_movies.filter(df_movies['title'].rlike(\"\\[*\\]\")).toPandas().head()"
   ]
  },
  {
   "cell_type": "code",
   "execution_count": 5,
   "metadata": {},
   "outputs": [],
   "source": [
    "# Filtering out the corrupted rows\n",
    "df_movies = df_movies.filter(~df_movies['title'].rlike(\"\\[*\\]\"))"
   ]
  },
  {
   "cell_type": "code",
   "execution_count": 6,
   "metadata": {},
   "outputs": [],
   "source": [
    "def count_nans(df):\n",
    "    return df.select([count(when(isnan(c), c)).alias(c) for c in df.columns]).toPandas()\n",
    "    \n",
    "def count_nulls(df):\n",
    "    return df.select([count(when(col(c).isNull(), c)).alias(c) for c in df.columns]).toPandas()"
   ]
  },
  {
   "cell_type": "code",
   "execution_count": 7,
   "metadata": {},
   "outputs": [
    {
     "data": {
      "text/html": [
       "<div>\n",
       "<style scoped>\n",
       "    .dataframe tbody tr th:only-of-type {\n",
       "        vertical-align: middle;\n",
       "    }\n",
       "\n",
       "    .dataframe tbody tr th {\n",
       "        vertical-align: top;\n",
       "    }\n",
       "\n",
       "    .dataframe thead th {\n",
       "        text-align: right;\n",
       "    }\n",
       "</style>\n",
       "<table border=\"1\" class=\"dataframe\">\n",
       "  <thead>\n",
       "    <tr style=\"text-align: right;\">\n",
       "      <th></th>\n",
       "      <th>id</th>\n",
       "      <th>title</th>\n",
       "    </tr>\n",
       "  </thead>\n",
       "  <tbody>\n",
       "    <tr>\n",
       "      <th>0</th>\n",
       "      <td>0</td>\n",
       "      <td>0</td>\n",
       "    </tr>\n",
       "  </tbody>\n",
       "</table>\n",
       "</div>"
      ],
      "text/plain": [
       "   id  title\n",
       "0   0      0"
      ]
     },
     "execution_count": 7,
     "metadata": {},
     "output_type": "execute_result"
    }
   ],
   "source": [
    "count_nans(df_movies)"
   ]
  },
  {
   "cell_type": "code",
   "execution_count": 8,
   "metadata": {},
   "outputs": [
    {
     "data": {
      "text/html": [
       "<div>\n",
       "<style scoped>\n",
       "    .dataframe tbody tr th:only-of-type {\n",
       "        vertical-align: middle;\n",
       "    }\n",
       "\n",
       "    .dataframe tbody tr th {\n",
       "        vertical-align: top;\n",
       "    }\n",
       "\n",
       "    .dataframe thead th {\n",
       "        text-align: right;\n",
       "    }\n",
       "</style>\n",
       "<table border=\"1\" class=\"dataframe\">\n",
       "  <thead>\n",
       "    <tr style=\"text-align: right;\">\n",
       "      <th></th>\n",
       "      <th>id</th>\n",
       "      <th>title</th>\n",
       "    </tr>\n",
       "  </thead>\n",
       "  <tbody>\n",
       "    <tr>\n",
       "      <th>0</th>\n",
       "      <td>0</td>\n",
       "      <td>0</td>\n",
       "    </tr>\n",
       "  </tbody>\n",
       "</table>\n",
       "</div>"
      ],
      "text/plain": [
       "   id  title\n",
       "0   0      0"
      ]
     },
     "execution_count": 8,
     "metadata": {},
     "output_type": "execute_result"
    }
   ],
   "source": [
    "count_nulls(df_movies)"
   ]
  },
  {
   "cell_type": "code",
   "execution_count": 6,
   "metadata": {},
   "outputs": [],
   "source": [
    "# There are a few duplicate ids and titles\n",
    "# movie_met.dropDuplicates(['id']).groupBy('id').count().orderBy('count', ascending=False).toPandas()\n",
    "df_movies = df_movies.dropDuplicates(['id'])"
   ]
  },
  {
   "cell_type": "code",
   "execution_count": 6,
   "metadata": {},
   "outputs": [],
   "source": [
    "df_movies.createOrReplaceTempView('movies')"
   ]
  },
  {
   "cell_type": "code",
   "execution_count": 8,
   "metadata": {},
   "outputs": [],
   "source": [
    "ratings_file_path = \"data/ratings_small.csv\"\n",
    "df_ratings = spark.read.csv(ratings_file_path, header=True).select('userId', 'movieId', 'rating') \\\n",
    "            .withColumn('userId', col('userId').cast('int')) \\\n",
    "            .withColumn('movieId', col('movieId').cast('int')) \\\n",
    "            .withColumn('rating', col('rating').cast('int')) \\\n",
    "\n",
    "df_ratings = df_ratings.na.drop()\n",
    "# df_ratings = df_ratings.filter(df_ratings['userId'].isNotNull())\n",
    "# df_ratings = df_ratings.filter(df_ratings['movieId'].isNotNull())\n",
    "# df_ratings = df_ratings.filter(df_ratings['rating'].isNotNull())"
   ]
  },
  {
   "cell_type": "code",
   "execution_count": 11,
   "metadata": {},
   "outputs": [
    {
     "data": {
      "text/html": [
       "<div>\n",
       "<style scoped>\n",
       "    .dataframe tbody tr th:only-of-type {\n",
       "        vertical-align: middle;\n",
       "    }\n",
       "\n",
       "    .dataframe tbody tr th {\n",
       "        vertical-align: top;\n",
       "    }\n",
       "\n",
       "    .dataframe thead th {\n",
       "        text-align: right;\n",
       "    }\n",
       "</style>\n",
       "<table border=\"1\" class=\"dataframe\">\n",
       "  <thead>\n",
       "    <tr style=\"text-align: right;\">\n",
       "      <th></th>\n",
       "      <th>userId</th>\n",
       "      <th>movieId</th>\n",
       "      <th>rating</th>\n",
       "    </tr>\n",
       "  </thead>\n",
       "  <tbody>\n",
       "    <tr>\n",
       "      <th>0</th>\n",
       "      <td>1</td>\n",
       "      <td>31</td>\n",
       "      <td>2</td>\n",
       "    </tr>\n",
       "    <tr>\n",
       "      <th>1</th>\n",
       "      <td>1</td>\n",
       "      <td>1029</td>\n",
       "      <td>3</td>\n",
       "    </tr>\n",
       "    <tr>\n",
       "      <th>2</th>\n",
       "      <td>1</td>\n",
       "      <td>1061</td>\n",
       "      <td>3</td>\n",
       "    </tr>\n",
       "    <tr>\n",
       "      <th>3</th>\n",
       "      <td>1</td>\n",
       "      <td>1129</td>\n",
       "      <td>2</td>\n",
       "    </tr>\n",
       "    <tr>\n",
       "      <th>4</th>\n",
       "      <td>1</td>\n",
       "      <td>1172</td>\n",
       "      <td>4</td>\n",
       "    </tr>\n",
       "  </tbody>\n",
       "</table>\n",
       "</div>"
      ],
      "text/plain": [
       "   userId  movieId  rating\n",
       "0       1       31       2\n",
       "1       1     1029       3\n",
       "2       1     1061       3\n",
       "3       1     1129       2\n",
       "4       1     1172       4"
      ]
     },
     "execution_count": 11,
     "metadata": {},
     "output_type": "execute_result"
    }
   ],
   "source": [
    "df_ratings.limit(5).toPandas()"
   ]
  },
  {
   "cell_type": "code",
   "execution_count": 10,
   "metadata": {},
   "outputs": [],
   "source": [
    "(df_training, df_test) = df_ratings.randomSplit([0.8, 0.2])"
   ]
  },
  {
   "cell_type": "code",
   "execution_count": 13,
   "metadata": {},
   "outputs": [
    {
     "data": {
      "text/html": [
       "<div>\n",
       "<style scoped>\n",
       "    .dataframe tbody tr th:only-of-type {\n",
       "        vertical-align: middle;\n",
       "    }\n",
       "\n",
       "    .dataframe tbody tr th {\n",
       "        vertical-align: top;\n",
       "    }\n",
       "\n",
       "    .dataframe thead th {\n",
       "        text-align: right;\n",
       "    }\n",
       "</style>\n",
       "<table border=\"1\" class=\"dataframe\">\n",
       "  <thead>\n",
       "    <tr style=\"text-align: right;\">\n",
       "      <th></th>\n",
       "      <th>userId</th>\n",
       "      <th>movieId</th>\n",
       "      <th>rating</th>\n",
       "    </tr>\n",
       "  </thead>\n",
       "  <tbody>\n",
       "    <tr>\n",
       "      <th>0</th>\n",
       "      <td>1</td>\n",
       "      <td>31</td>\n",
       "      <td>2</td>\n",
       "    </tr>\n",
       "    <tr>\n",
       "      <th>1</th>\n",
       "      <td>1</td>\n",
       "      <td>1029</td>\n",
       "      <td>3</td>\n",
       "    </tr>\n",
       "    <tr>\n",
       "      <th>2</th>\n",
       "      <td>1</td>\n",
       "      <td>1061</td>\n",
       "      <td>3</td>\n",
       "    </tr>\n",
       "    <tr>\n",
       "      <th>3</th>\n",
       "      <td>1</td>\n",
       "      <td>1129</td>\n",
       "      <td>2</td>\n",
       "    </tr>\n",
       "    <tr>\n",
       "      <th>4</th>\n",
       "      <td>1</td>\n",
       "      <td>1172</td>\n",
       "      <td>4</td>\n",
       "    </tr>\n",
       "  </tbody>\n",
       "</table>\n",
       "</div>"
      ],
      "text/plain": [
       "   userId  movieId  rating\n",
       "0       1       31       2\n",
       "1       1     1029       3\n",
       "2       1     1061       3\n",
       "3       1     1129       2\n",
       "4       1     1172       4"
      ]
     },
     "execution_count": 13,
     "metadata": {},
     "output_type": "execute_result"
    }
   ],
   "source": [
    "df_training.limit(5).toPandas()"
   ]
  },
  {
   "cell_type": "code",
   "execution_count": 14,
   "metadata": {},
   "outputs": [],
   "source": [
    "def vary_max_iter(max_iter_list):\n",
    "    rmse_dict = dict.fromkeys(max_iter_list)\n",
    "    for max_iter in max_iter_list:\n",
    "        print(f\"Max iter: {max_iter}\")\n",
    "        als = ALS(rank=10, maxIter=max_iter, regParam=0.01, userCol=\"userId\", itemCol=\"movieId\", ratingCol=\"rating\", coldStartStrategy=\"drop\")\n",
    "        model = als.fit(df_training)\n",
    "        predictions = model.transform(df_test)\n",
    "        rmse_dict[max_iter] = evaluator.evaluate(predictions)\n",
    "    return rmse_dict"
   ]
  },
  {
   "cell_type": "code",
   "execution_count": 15,
   "metadata": {},
   "outputs": [],
   "source": [
    "def vary_rank(rank_list):\n",
    "    rmse_dict = dict.fromkeys(rank_list)\n",
    "    for rank in rank_list:\n",
    "        print(f\"Rank: {rank}\")\n",
    "        als = ALS(rank=rank, maxIter=5, regParam=0.01, userCol=\"userId\", itemCol=\"movieId\", ratingCol=\"rating\", coldStartStrategy=\"drop\")\n",
    "        model = als.fit(df_training)\n",
    "        predictions = model.transform(df_test)\n",
    "        rmse_dict[rank] = evaluator.evaluate(predictions)\n",
    "    return rmse_dict"
   ]
  },
  {
   "cell_type": "code",
   "execution_count": 16,
   "metadata": {},
   "outputs": [],
   "source": [
    "def vary_reg_param(reg_param_list):\n",
    "    rmse_dict = dict.fromkeys(reg_param_list)\n",
    "    for reg_param in reg_param_list:\n",
    "        print(f\"Reg param: {reg_param}\")\n",
    "        als = ALS(rank=10, maxIter=5, regParam=reg_param, userCol=\"userId\", itemCol=\"movieId\", ratingCol=\"rating\", coldStartStrategy=\"drop\")\n",
    "        model = als.fit(df_training)\n",
    "        predictions = model.transform(df_test)\n",
    "        rmse_dict[reg_param] = evaluator.evaluate(predictions)\n",
    "    return rmse_dict"
   ]
  },
  {
   "cell_type": "code",
   "execution_count": 8,
   "metadata": {},
   "outputs": [],
   "source": [
    "evaluator = RegressionEvaluator(metricName=\"rmse\", labelCol=\"rating\", predictionCol=\"prediction\")\n",
    "\n",
    "def validate_get_rmse(model, test):\n",
    "    predictions = model.transform(df_test)\n",
    "    rmse = evaluator.evaluate(predictions)\n",
    "    return rmse"
   ]
  },
  {
   "cell_type": "code",
   "execution_count": 9,
   "metadata": {},
   "outputs": [],
   "source": [
    "def optimise_params(numIter_list, rank_list, regParam_list):\n",
    "    rmse_min = float('inf')\n",
    "    for rank, regParam, numIter in itertools.product(rank_list, regParam_list, numIter_list):\n",
    "        als = ALS(rank=rank, maxIter=numIter, regParam=regParam, userCol=\"userId\", itemCol=\"movieId\", ratingCol=\"rating\", coldStartStrategy=\"drop\")\n",
    "        model = als.fit(df_training)\n",
    "        rmse = validate_get_rmse(model, df_test)\n",
    "        print(f\"Rank = {rank}, Reg param = {regParam}, numIter = {numIter}: RMSE = {rmse}\")\n",
    "        if rmse < rmse_min:\n",
    "            rmse_min = rmse\n",
    "            rank_best = rank\n",
    "            regParam_best = regParam\n",
    "            numIter_best = numIter\n",
    "\n",
    "    print(f\"Best rank: {rank_best}\\nBest Reg param: {regParam_best}\\nBest iter max: {numIter_best}\")"
   ]
  },
  {
   "cell_type": "code",
   "execution_count": 51,
   "metadata": {},
   "outputs": [],
   "source": [
    "numIter_list = [1,5,10,20]\n",
    "rank_list = [5,10,20,30]\n",
    "regParam_list = [0.001, 0.01, 0.1, 0.5, 0.9]\n",
    "\n",
    "optimise_params(numIter_list, rank_list, regParam_list)"
   ]
  },
  {
   "cell_type": "code",
   "execution_count": 54,
   "metadata": {},
   "outputs": [
    {
     "name": "stdout",
     "output_type": "stream",
     "text": [
      "Rank = 10, Reg param = 0.01, numIter = 5: RMSE = 1.1617932978547596\n",
      "Rank = 10, Reg param = 0.01, numIter = 10: RMSE = 1.2005721146645645\n",
      "Rank = 10, Reg param = 0.01, numIter = 20: RMSE = 1.2339603937404398\n",
      "Rank = 10, Reg param = 0.05, numIter = 5: RMSE = 1.014909873227744\n",
      "Rank = 10, Reg param = 0.05, numIter = 10: RMSE = 1.01817212652199\n",
      "Rank = 10, Reg param = 0.05, numIter = 20: RMSE = 1.011609243336826\n",
      "Rank = 10, Reg param = 0.1, numIter = 5: RMSE = 0.9479697106211431\n",
      "Rank = 10, Reg param = 0.1, numIter = 10: RMSE = 0.9479587065233994\n",
      "Rank = 10, Reg param = 0.1, numIter = 20: RMSE = 0.9471767379658366\n",
      "Rank = 10, Reg param = 0.25, numIter = 5: RMSE = 0.9524489863980619\n",
      "Rank = 10, Reg param = 0.25, numIter = 10: RMSE = 0.9469375500772483\n",
      "Rank = 10, Reg param = 0.25, numIter = 20: RMSE = 0.9460415790003626\n",
      "Rank = 10, Reg param = 0.5, numIter = 5: RMSE = 1.0441125386217338\n",
      "Rank = 10, Reg param = 0.5, numIter = 10: RMSE = 1.0485777865060522\n",
      "Rank = 10, Reg param = 0.5, numIter = 20: RMSE = 1.0488079150339578\n",
      "Rank = 20, Reg param = 0.01, numIter = 5: RMSE = 1.2707469923070827\n",
      "Rank = 20, Reg param = 0.01, numIter = 10: RMSE = 1.3104395864670835\n",
      "Rank = 20, Reg param = 0.01, numIter = 20: RMSE = 1.3480688389615338\n",
      "Rank = 20, Reg param = 0.05, numIter = 5: RMSE = 1.0381896822985897\n",
      "Rank = 20, Reg param = 0.05, numIter = 10: RMSE = 1.0357441172008448\n",
      "Rank = 20, Reg param = 0.05, numIter = 20: RMSE = 1.02488650875129\n",
      "Rank = 20, Reg param = 0.1, numIter = 5: RMSE = 0.9486694557898945\n",
      "Rank = 20, Reg param = 0.1, numIter = 10: RMSE = 0.9466311273773991\n",
      "Rank = 20, Reg param = 0.1, numIter = 20: RMSE = 0.9456584620550961\n",
      "Rank = 20, Reg param = 0.25, numIter = 5: RMSE = 0.9566266620097756\n",
      "Rank = 20, Reg param = 0.25, numIter = 10: RMSE = 0.9477396447536425\n",
      "Rank = 20, Reg param = 0.25, numIter = 20: RMSE = 0.9460572242811885\n",
      "Rank = 20, Reg param = 0.5, numIter = 5: RMSE = 1.049806931667109\n",
      "Rank = 20, Reg param = 0.5, numIter = 10: RMSE = 1.048765363918881\n",
      "Rank = 20, Reg param = 0.5, numIter = 20: RMSE = 1.048807597009588\n",
      "Rank = 30, Reg param = 0.01, numIter = 5: RMSE = 1.3222966962449554\n",
      "Rank = 30, Reg param = 0.01, numIter = 10: RMSE = 1.3480819229479304\n",
      "Rank = 30, Reg param = 0.01, numIter = 20: RMSE = 1.3626717472426313\n",
      "Rank = 30, Reg param = 0.05, numIter = 5: RMSE = 1.03454286640996\n",
      "Rank = 30, Reg param = 0.05, numIter = 10: RMSE = 1.0293813586561906\n",
      "Rank = 30, Reg param = 0.05, numIter = 20: RMSE = 1.0166883516788656\n",
      "Rank = 30, Reg param = 0.1, numIter = 5: RMSE = 0.9454118722186614\n",
      "Rank = 30, Reg param = 0.1, numIter = 10: RMSE = 0.9450358546076042\n",
      "Rank = 30, Reg param = 0.1, numIter = 20: RMSE = 0.9449368769060628\n",
      "Rank = 30, Reg param = 0.25, numIter = 5: RMSE = 0.9577710742480718\n",
      "Rank = 30, Reg param = 0.25, numIter = 10: RMSE = 0.9481158422851647\n",
      "Rank = 30, Reg param = 0.25, numIter = 20: RMSE = 0.9461538230255916\n",
      "Rank = 30, Reg param = 0.5, numIter = 5: RMSE = 1.0458761032631303\n",
      "Rank = 30, Reg param = 0.5, numIter = 10: RMSE = 1.048636744878438\n",
      "Rank = 30, Reg param = 0.5, numIter = 20: RMSE = 1.0488101618209371\n",
      "Rank = 40, Reg param = 0.01, numIter = 5: RMSE = 1.3904520582129731\n",
      "Rank = 40, Reg param = 0.01, numIter = 10: RMSE = 1.391304809628252\n",
      "Rank = 40, Reg param = 0.01, numIter = 20: RMSE = 1.3693672181116654\n",
      "Rank = 40, Reg param = 0.05, numIter = 5: RMSE = 1.0393775166274353\n",
      "Rank = 40, Reg param = 0.05, numIter = 10: RMSE = 1.0250707604780773\n",
      "Rank = 40, Reg param = 0.05, numIter = 20: RMSE = 1.006320012973086\n",
      "Rank = 40, Reg param = 0.1, numIter = 5: RMSE = 0.9448570879826784\n",
      "Rank = 40, Reg param = 0.1, numIter = 10: RMSE = 0.9438614602629646\n",
      "Rank = 40, Reg param = 0.1, numIter = 20: RMSE = 0.9437741666188918\n",
      "Rank = 40, Reg param = 0.25, numIter = 5: RMSE = 0.9597464711668905\n",
      "Rank = 40, Reg param = 0.25, numIter = 10: RMSE = 0.9484344500185145\n",
      "Rank = 40, Reg param = 0.25, numIter = 20: RMSE = 0.9461756585956049\n",
      "Rank = 40, Reg param = 0.5, numIter = 5: RMSE = 1.0472685699879511\n",
      "Rank = 40, Reg param = 0.5, numIter = 10: RMSE = 1.048691641606005\n",
      "Rank = 40, Reg param = 0.5, numIter = 20: RMSE = 1.0488092069387014\n",
      "Best rank: 40\n",
      "Best Reg param: 0.1\n",
      "Best iter max: 20\n"
     ]
    }
   ],
   "source": [
    "numIter_list = [5, 10, 20]\n",
    "rank_list = [10, 20, 30, 40]\n",
    "regParam_list = [0.01, 0.05, 0.1, 0.25, 0.5]\n",
    "\n",
    "optimise_params(numIter_list, rank_list, regParam_list)"
   ]
  },
  {
   "cell_type": "code",
   "execution_count": 19,
   "metadata": {},
   "outputs": [
    {
     "name": "stdout",
     "output_type": "stream",
     "text": [
      "Rank = 30, Reg param = 0.05, numIter = 10: RMSE = 1.0363285416493484\n",
      "Rank = 30, Reg param = 0.05, numIter = 20: RMSE = 1.021219894540249\n",
      "Rank = 30, Reg param = 0.05, numIter = 25: RMSE = 1.0169836757081714\n",
      "Rank = 30, Reg param = 0.1, numIter = 10: RMSE = 0.9514801948347762\n",
      "Rank = 30, Reg param = 0.1, numIter = 20: RMSE = 0.9502141100558108\n",
      "Rank = 30, Reg param = 0.1, numIter = 25: RMSE = 0.9501671022369136\n",
      "Rank = 30, Reg param = 0.25, numIter = 10: RMSE = 0.9559648332228158\n",
      "Rank = 30, Reg param = 0.25, numIter = 20: RMSE = 0.9540615341537515\n",
      "Rank = 30, Reg param = 0.25, numIter = 25: RMSE = 0.9540077048648247\n",
      "Rank = 40, Reg param = 0.05, numIter = 10: RMSE = 1.0370421683408315\n",
      "Rank = 40, Reg param = 0.05, numIter = 20: RMSE = 1.0139594412839907\n",
      "Rank = 40, Reg param = 0.05, numIter = 25: RMSE = 1.0077092684812672\n",
      "Rank = 40, Reg param = 0.1, numIter = 10: RMSE = 0.9509024613491506\n",
      "Rank = 40, Reg param = 0.1, numIter = 20: RMSE = 0.9496179626541684\n",
      "Rank = 40, Reg param = 0.1, numIter = 25: RMSE = 0.9493525043138464\n",
      "Rank = 40, Reg param = 0.25, numIter = 10: RMSE = 0.9562979180748502\n",
      "Rank = 40, Reg param = 0.25, numIter = 20: RMSE = 0.9540893335250629\n",
      "Rank = 40, Reg param = 0.25, numIter = 25: RMSE = 0.9540266675902819\n",
      "Rank = 50, Reg param = 0.05, numIter = 10: RMSE = 1.0267466225754658\n",
      "Rank = 50, Reg param = 0.05, numIter = 20: RMSE = 1.0065464338978867\n",
      "Rank = 50, Reg param = 0.05, numIter = 25: RMSE = 1.0009336075301127\n",
      "Rank = 50, Reg param = 0.1, numIter = 10: RMSE = 0.9489550236897576\n",
      "Rank = 50, Reg param = 0.1, numIter = 20: RMSE = 0.9482888201566408\n",
      "Rank = 50, Reg param = 0.1, numIter = 25: RMSE = 0.9482251311233267\n",
      "Rank = 50, Reg param = 0.25, numIter = 10: RMSE = 0.9564138222319031\n",
      "Rank = 50, Reg param = 0.25, numIter = 20: RMSE = 0.9540576394221396\n",
      "Rank = 50, Reg param = 0.25, numIter = 25: RMSE = 0.9539870329994175\n",
      "Best rank: 50\n",
      "Best Reg param: 0.1\n",
      "Best iter max: 25\n"
     ]
    }
   ],
   "source": [
    "numIter_list = [10, 20, 25]\n",
    "rank_list = [30, 40, 50]\n",
    "regParam_list = [0.05, 0.1, 0.25]\n",
    "\n",
    "optimise_params(numIter_list, rank_list, regParam_list)"
   ]
  },
  {
   "cell_type": "code",
   "execution_count": 11,
   "metadata": {},
   "outputs": [],
   "source": [
    "# Optimal model\n",
    "\n",
    "als = ALS(rank=40, maxIter=20, regParam=0.1, userCol=\"userId\", itemCol=\"movieId\", ratingCol=\"rating\", coldStartStrategy=\"drop\")\n",
    "model = als.fit(df_training)"
   ]
  },
  {
   "cell_type": "code",
   "execution_count": 12,
   "metadata": {},
   "outputs": [],
   "source": [
    "# Generate top 10 movie recommendations for each user\n",
    "# userRecs = model.recommendForAllUsers(10).toPandas().set_index('userId')\n",
    "userRecs = model.recommendForAllUsers(10)"
   ]
  },
  {
   "cell_type": "code",
   "execution_count": 18,
   "metadata": {},
   "outputs": [],
   "source": [
    "df_links = spark.read.csv(\"data/links_small.csv\", header=True).select('movieId', 'tmdbId') \\\n",
    "            .withColumn('movieId', col('movieId').cast('int')) \\\n",
    "            .withColumn('tmdbId', col('tmdbId').cast('int'))\n",
    "\n",
    "df_links = df_links.na.drop()"
   ]
  },
  {
   "cell_type": "code",
   "execution_count": 14,
   "metadata": {},
   "outputs": [],
   "source": [
    "def movieId_to_title_sql(movieId):\n",
    "    query = f\"\"\"\n",
    "            SELECT title\n",
    "            FROM movies\n",
    "                JOIN links\n",
    "                ON movies.id = links.tmdbId\n",
    "            WHERE links.movieId = {movieId}\n",
    "            \"\"\"\n",
    "    movie_name = spark.sql(query).collect()[0].title\n",
    "    return movie_name\n",
    "\n",
    "# This is really really slow."
   ]
  },
  {
   "cell_type": "code",
   "execution_count": 20,
   "metadata": {},
   "outputs": [],
   "source": [
    "def movieId_to_title(movieId):\n",
    "    tmdbId = df_links.where(df_links['movieId'] == movieId).collect()[0].tmdbId\n",
    "    try:\n",
    "        title = df_movies.where(df_movies['id'] == tmdbId).collect()[0].title\n",
    "    except IndexError:\n",
    "        title = ''\n",
    "    return title"
   ]
  },
  {
   "cell_type": "code",
   "execution_count": 15,
   "metadata": {},
   "outputs": [],
   "source": [
    "reco_mov = [row.movieId for row in userRecs.select('recommendations').where(userRecs['userId'] == 1).collect()[0][0]]"
   ]
  },
  {
   "cell_type": "code",
   "execution_count": 68,
   "metadata": {},
   "outputs": [],
   "source": [
    "# reco_mov = [row.movieId for row in userRecs.loc[2]['recommendations']]"
   ]
  },
  {
   "cell_type": "code",
   "execution_count": 16,
   "metadata": {},
   "outputs": [
    {
     "data": {
      "text/plain": [
       "[1172, 73290, 83411, 67504, 83318, 2105, 1221, 1953, 1956, 551]"
      ]
     },
     "execution_count": 16,
     "metadata": {},
     "output_type": "execute_result"
    }
   ],
   "source": [
    "reco_mov"
   ]
  },
  {
   "cell_type": "code",
   "execution_count": 62,
   "metadata": {},
   "outputs": [
    {
     "data": {
      "text/plain": [
       "'The Goat'"
      ]
     },
     "execution_count": 62,
     "metadata": {},
     "output_type": "execute_result"
    }
   ],
   "source": [
    "movieId_to_title(83318)"
   ]
  },
  {
   "cell_type": "code",
   "execution_count": 21,
   "metadata": {},
   "outputs": [
    {
     "name": "stdout",
     "output_type": "stream",
     "text": [
      "Cinema Paradiso\n",
      "Hachi: A Dog's Tale\n",
      "Cops\n",
      "Land of Silence and Darkness\n",
      "The Goat\n",
      "\n",
      "The Godfather: Part II\n",
      "\n",
      "Ordinary People\n",
      "The Nightmare Before Christmas\n"
     ]
    }
   ],
   "source": [
    "# Turns out some movies were removed in the cleaning stage\n",
    "# These were therefore present in the rating DF but not in the movies DF\n",
    "# It's only corrupted datapoints\n",
    "for mov in map(movieId_to_title, reco_mov):\n",
    "    print(mov)"
   ]
  }
 ],
 "metadata": {
  "kernelspec": {
   "display_name": "Python 3",
   "language": "python",
   "name": "python3"
  },
  "language_info": {
   "codemirror_mode": {
    "name": "ipython",
    "version": 3
   },
   "file_extension": ".py",
   "mimetype": "text/x-python",
   "name": "python",
   "nbconvert_exporter": "python",
   "pygments_lexer": "ipython3",
   "version": "3.7.7"
  }
 },
 "nbformat": 4,
 "nbformat_minor": 4
}
