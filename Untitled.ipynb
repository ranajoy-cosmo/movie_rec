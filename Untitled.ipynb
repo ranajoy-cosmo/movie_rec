{
 "cells": [
  {
   "cell_type": "code",
   "execution_count": 3,
   "metadata": {},
   "outputs": [],
   "source": [
    "import pandas as pd\n",
    "import numpy as np"
   ]
  },
  {
   "cell_type": "code",
   "execution_count": 5,
   "metadata": {},
   "outputs": [],
   "source": [
    "df_movies = pd.read_csv('movies_metadata.csv', usecols=['id', 'title'])\n",
    "df_ratings = pd.read_csv('ratings_small.csv', usecols=['userId', 'movieId', 'rating'], dtype={'userId': np.int32, 'movieId': np.int32, 'rating': np.float32})"
   ]
  },
  {
   "cell_type": "code",
   "execution_count": 16,
   "metadata": {},
   "outputs": [],
   "source": [
    "df_movies.drop(df_movies[df_movies.id.str.isnumeric() == False].index, inplace=True)\n",
    "df_movies.id = df_movies.id.astype(np.int32)"
   ]
  },
  {
   "cell_type": "code",
   "execution_count": 24,
   "metadata": {},
   "outputs": [],
   "source": [
    "df_links = pd.read_csv(\"links_small.csv\", usecols=['movieId', 'tmdbId'])"
   ]
  },
  {
   "cell_type": "code",
   "execution_count": 25,
   "metadata": {},
   "outputs": [],
   "source": [
    "df_links.dropna(inplace=True)"
   ]
  },
  {
   "cell_type": "code",
   "execution_count": 27,
   "metadata": {},
   "outputs": [],
   "source": [
    "df_links.movieId = df_links.movieId.astype(np.int32)\n",
    "df_links.tmdbId = df_links.tmdbId.astype(np.int32)"
   ]
  },
  {
   "cell_type": "code",
   "execution_count": 28,
   "metadata": {},
   "outputs": [],
   "source": [
    "def movieId_to_title(movieId):\n",
    "    tmdbId = df_links[df_links.movieId == movieId].tmdbId\n",
    "    movie_title = df_movies.set_index('id').loc[tmdbId]\n",
    "    return movie_title\n",
    "\n",
    "def title_to_movieId(movie_title):\n",
    "    tmdbId = df_movies[df_movies.title == movie_title].id\n",
    "    movieId = df_links[df_links.tmdbId == tmdbId].movieId\n",
    "    return movie_idx.index"
   ]
  },
  {
   "cell_type": "code",
   "execution_count": 46,
   "metadata": {},
   "outputs": [
    {
     "data": {
      "text/plain": [
       "9066"
      ]
     },
     "execution_count": 46,
     "metadata": {},
     "output_type": "execute_result"
    }
   ],
   "source": [
    "df_ratings.movieId.unique().size"
   ]
  },
  {
   "cell_type": "code",
   "execution_count": 53,
   "metadata": {},
   "outputs": [
    {
     "data": {
      "text/plain": [
       "{720,\n",
       " 721,\n",
       " 769,\n",
       " 1133,\n",
       " 2851,\n",
       " 4051,\n",
       " 26587,\n",
       " 72781,\n",
       " 73759,\n",
       " 79299,\n",
       " 94466,\n",
       " 108548,\n",
       " 108583}"
      ]
     },
     "execution_count": 53,
     "metadata": {},
     "output_type": "execute_result"
    }
   ],
   "source": [
    "set(df_ratings.movieId.unique()) - set(df_links.movieId.unique())"
   ]
  },
  {
   "cell_type": "code",
   "execution_count": 55,
   "metadata": {},
   "outputs": [
    {
     "data": {
      "text/html": [
       "<div>\n",
       "<style scoped>\n",
       "    .dataframe tbody tr th:only-of-type {\n",
       "        vertical-align: middle;\n",
       "    }\n",
       "\n",
       "    .dataframe tbody tr th {\n",
       "        vertical-align: top;\n",
       "    }\n",
       "\n",
       "    .dataframe thead th {\n",
       "        text-align: right;\n",
       "    }\n",
       "</style>\n",
       "<table border=\"1\" class=\"dataframe\">\n",
       "  <thead>\n",
       "    <tr style=\"text-align: right;\">\n",
       "      <th></th>\n",
       "      <th>userId</th>\n",
       "      <th>movieId</th>\n",
       "      <th>rating</th>\n",
       "    </tr>\n",
       "  </thead>\n",
       "  <tbody>\n",
       "    <tr>\n",
       "      <th>9693</th>\n",
       "      <td>67</td>\n",
       "      <td>694</td>\n",
       "      <td>3.0</td>\n",
       "    </tr>\n",
       "    <tr>\n",
       "      <th>9965</th>\n",
       "      <td>70</td>\n",
       "      <td>694</td>\n",
       "      <td>5.0</td>\n",
       "    </tr>\n",
       "    <tr>\n",
       "      <th>10354</th>\n",
       "      <td>73</td>\n",
       "      <td>694</td>\n",
       "      <td>3.0</td>\n",
       "    </tr>\n",
       "    <tr>\n",
       "      <th>38805</th>\n",
       "      <td>284</td>\n",
       "      <td>694</td>\n",
       "      <td>2.0</td>\n",
       "    </tr>\n",
       "    <tr>\n",
       "      <th>43518</th>\n",
       "      <td>311</td>\n",
       "      <td>694</td>\n",
       "      <td>2.5</td>\n",
       "    </tr>\n",
       "    <tr>\n",
       "      <th>54589</th>\n",
       "      <td>390</td>\n",
       "      <td>694</td>\n",
       "      <td>1.0</td>\n",
       "    </tr>\n",
       "    <tr>\n",
       "      <th>57240</th>\n",
       "      <td>413</td>\n",
       "      <td>694</td>\n",
       "      <td>3.0</td>\n",
       "    </tr>\n",
       "    <tr>\n",
       "      <th>62792</th>\n",
       "      <td>453</td>\n",
       "      <td>694</td>\n",
       "      <td>2.0</td>\n",
       "    </tr>\n",
       "    <tr>\n",
       "      <th>72220</th>\n",
       "      <td>507</td>\n",
       "      <td>694</td>\n",
       "      <td>3.0</td>\n",
       "    </tr>\n",
       "    <tr>\n",
       "      <th>97107</th>\n",
       "      <td>650</td>\n",
       "      <td>694</td>\n",
       "      <td>4.0</td>\n",
       "    </tr>\n",
       "  </tbody>\n",
       "</table>\n",
       "</div>"
      ],
      "text/plain": [
       "       userId  movieId  rating\n",
       "9693       67      694     3.0\n",
       "9965       70      694     5.0\n",
       "10354      73      694     3.0\n",
       "38805     284      694     2.0\n",
       "43518     311      694     2.5\n",
       "54589     390      694     1.0\n",
       "57240     413      694     3.0\n",
       "62792     453      694     2.0\n",
       "72220     507      694     3.0\n",
       "97107     650      694     4.0"
      ]
     },
     "execution_count": 55,
     "metadata": {},
     "output_type": "execute_result"
    }
   ],
   "source": [
    "df_ratings[df_ratings.movieId == 694]"
   ]
  },
  {
   "cell_type": "code",
   "execution_count": null,
   "metadata": {},
   "outputs": [],
   "source": [
    "from scikitlear"
   ]
  }
 ],
 "metadata": {
  "kernelspec": {
   "display_name": "Python 3",
   "language": "python",
   "name": "python3"
  },
  "language_info": {
   "codemirror_mode": {
    "name": "ipython",
    "version": 3
   },
   "file_extension": ".py",
   "mimetype": "text/x-python",
   "name": "python",
   "nbconvert_exporter": "python",
   "pygments_lexer": "ipython3",
   "version": "3.7.6"
  }
 },
 "nbformat": 4,
 "nbformat_minor": 4
}
