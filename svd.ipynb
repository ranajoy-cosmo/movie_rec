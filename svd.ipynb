{
 "cells": [
  {
   "cell_type": "code",
   "execution_count": 1,
   "metadata": {},
   "outputs": [],
   "source": [
    "import pandas as pd\n",
    "import numpy as np\n",
    "import scipy as sp\n",
    "import matplotlib.pyplot as plt\n",
    "import seaborn as sns\n",
    "import os\n",
    "\n",
    "from sklearn.neighbors import NearestNeighbors\n",
    "from scipy.sparse import csr_matrix\n",
    "\n",
    "%matplotlib inline"
   ]
  },
  {
   "cell_type": "code",
   "execution_count": 2,
   "metadata": {},
   "outputs": [],
   "source": [
    "# Read in the movie id and title\n",
    "df_movies = pd.read_csv('movies_metadata.csv', usecols=['id', 'title'])"
   ]
  },
  {
   "cell_type": "code",
   "execution_count": 3,
   "metadata": {},
   "outputs": [],
   "source": [
    "# Some bad ids with date. Remove them.\n",
    "# Drop rows with bad id and change dtype\n",
    "df_movies.drop(df_movies[df_movies.id.str.isnumeric() == False].index, inplace=True)\n",
    "df_movies.id = df_movies.id.astype(np.int32)\n",
    "\n",
    "# Drop rows with null values\n",
    "df_movies.dropna(inplace=True)\n",
    "\n",
    "# Remove duplicates in id and title\n",
    "df_movies.drop_duplicates(subset=['id'], inplace=True)\n",
    "df_movies.drop_duplicates(subset=['title'], inplace=True)\n",
    "\n",
    "# The movie dataset is clean now"
   ]
  },
  {
   "cell_type": "code",
   "execution_count": 4,
   "metadata": {},
   "outputs": [],
   "source": [
    "# Read in the ratings file\n",
    "df_ratings = pd.read_csv('ratings_small.csv', usecols=['userId', 'movieId', 'rating'], dtype={'userId': np.int32, 'movieId': np.int32, 'rating': np.float32})"
   ]
  },
  {
   "cell_type": "code",
   "execution_count": 5,
   "metadata": {},
   "outputs": [],
   "source": [
    "df_interaction = df_ratings.pivot(index='userId', columns='movieId', values='rating')"
   ]
  },
  {
   "cell_type": "code",
   "execution_count": 9,
   "metadata": {},
   "outputs": [
    {
     "name": "stdout",
     "output_type": "stream",
     "text": [
      "<class 'pandas.core.frame.DataFrame'>\n",
      "Int64Index: 529 entries, 2 to 671\n",
      "Columns: 994 entries, 1 to 134130\n",
      "dtypes: float32(994)\n",
      "memory usage: 2.0 MB\n"
     ]
    }
   ],
   "source": [
    "user_thres = 25\n",
    "movie_thres = 25\n",
    "\n",
    "df_interaction.dropna(axis=0, thresh=user_thres, inplace=True)\n",
    "df_interaction.dropna(axis=1, thresh=movie_thres, inplace=True)\n",
    "df_interaction.info()"
   ]
  },
  {
   "cell_type": "code",
   "execution_count": 10,
   "metadata": {},
   "outputs": [],
   "source": [
    "df_interaction.fillna(0, inplace=True)"
   ]
  },
  {
   "cell_type": "code",
   "execution_count": 11,
   "metadata": {},
   "outputs": [],
   "source": [
    "# Link between movieId and tmdbId\n",
    "df_links = pd.read_csv(\"links_small.csv\", usecols=['movieId', 'tmdbId'])\n",
    "df_links.dropna(inplace=True)\n",
    "df_links.movieId = df_links.movieId.astype(np.int32)\n",
    "df_links.tmdbId = df_links.tmdbId.astype(np.int32)"
   ]
  },
  {
   "cell_type": "code",
   "execution_count": 12,
   "metadata": {},
   "outputs": [],
   "source": [
    "orig_ind = df_interaction.index\n",
    "orig_cols = df_interaction.columns\n",
    "df_shape = df_interaction.shape\n",
    "\n",
    "enc_user = dict(zip(orig_ind, np.arange(df_shape[0])))\n",
    "enc_mov = dict(zip(orig_cols, np.arange(df_shape[1])))\n",
    "\n",
    "dec_user = dict(zip(np.arange(df_shape[0]), orig_ind))\n",
    "dec_mov = dict(zip(np.arange(df_shape[1]), orig_cols))"
   ]
  },
  {
   "cell_type": "code",
   "execution_count": 13,
   "metadata": {},
   "outputs": [],
   "source": [
    "df_interaction.rename(index=enc_user, columns=enc_mov, inplace=True)"
   ]
  },
  {
   "cell_type": "code",
   "execution_count": 14,
   "metadata": {},
   "outputs": [],
   "source": [
    "def movieId_to_title(movieId):\n",
    "    tmdbId = df_links[df_links.movieId == movieId].tmdbId\n",
    "    movie_title = df_movies.set_index('id').loc[tmdbId]\n",
    "    return movie_title.iloc[0]['title']\n",
    "\n",
    "def title_to_movieId(movie_title):\n",
    "    tmdbId = df_movies[df_movies.title == movie_title].id\n",
    "    movieId = df_links[df_links.tmdbId == tmdbId].movieId\n",
    "    return movie_idx.index"
   ]
  },
  {
   "cell_type": "code",
   "execution_count": null,
   "metadata": {},
   "outputs": [],
   "source": []
  }
 ],
 "metadata": {
  "kernelspec": {
   "display_name": "Python 3",
   "language": "python",
   "name": "python3"
  },
  "language_info": {
   "codemirror_mode": {
    "name": "ipython",
    "version": 3
   },
   "file_extension": ".py",
   "mimetype": "text/x-python",
   "name": "python",
   "nbconvert_exporter": "python",
   "pygments_lexer": "ipython3",
   "version": "3.7.6"
  }
 },
 "nbformat": 4,
 "nbformat_minor": 4
}
