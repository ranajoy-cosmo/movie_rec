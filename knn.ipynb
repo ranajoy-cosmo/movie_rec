{
 "cells": [
  {
   "cell_type": "code",
   "execution_count": 1,
   "metadata": {},
   "outputs": [],
   "source": [
    "import pandas as pd\n",
    "import numpy as np\n",
    "import scipy as sp\n",
    "import matplotlib.pyplot as plt\n",
    "import seaborn as sns\n",
    "import os\n",
    "\n",
    "from sklearn.neighbors import NearestNeighbors\n",
    "from scipy.sparse import csr_matrix\n",
    "\n",
    "%matplotlib inline"
   ]
  },
  {
   "cell_type": "code",
   "execution_count": 3,
   "metadata": {},
   "outputs": [],
   "source": [
    "# Read in the movie id and title\n",
    "df_movies = pd.read_csv('data/movies_metadata.csv', usecols=['id', 'title'])"
   ]
  },
  {
   "cell_type": "code",
   "execution_count": 4,
   "metadata": {},
   "outputs": [],
   "source": [
    "# Some bad ids with date. Remove them.\n",
    "# Drop rows with bad id and change dtype\n",
    "df_movies.drop(df_movies[df_movies.id.str.isnumeric() == False].index, inplace=True)\n",
    "df_movies.id = df_movies.id.astype(np.int32)\n",
    "\n",
    "# Drop rows with null values\n",
    "df_movies.dropna(inplace=True)\n",
    "\n",
    "# Remove duplicates in id and title\n",
    "df_movies.drop_duplicates(subset=['id'], inplace=True)\n",
    "df_movies.drop_duplicates(subset=['title'], inplace=True)\n",
    "\n",
    "# The movie dataset is clean now"
   ]
  },
  {
   "cell_type": "code",
   "execution_count": 3,
   "metadata": {},
   "outputs": [],
   "source": [
    "# Read in the ratings file\n",
    "df_ratings = pd.read_csv('data/ratings_small.csv', usecols=['userId', 'movieId', 'rating'], dtype={'userId': np.int32, 'movieId': np.int32, 'rating': np.float32})"
   ]
  },
  {
   "cell_type": "code",
   "execution_count": 6,
   "metadata": {},
   "outputs": [],
   "source": [
    "df_interaction = df_ratings.pivot(index='userId', columns='movieId', values='rating')"
   ]
  },
  {
   "cell_type": "code",
   "execution_count": 7,
   "metadata": {},
   "outputs": [
    {
     "name": "stdout",
     "output_type": "stream",
     "text": [
      "<class 'pandas.core.frame.DataFrame'>\n",
      "Int64Index: 595 entries, 2 to 671\n",
      "Columns: 1013 entries, 1 to 134130\n",
      "dtypes: float32(1013)\n",
      "memory usage: 2.3 MB\n"
     ]
    }
   ],
   "source": [
    "user_thres = 25\n",
    "movie_thres = 25\n",
    "\n",
    "df_interaction.dropna(axis=0, thresh=user_thres, inplace=True)\n",
    "df_interaction.dropna(axis=1, thresh=movie_thres, inplace=True)\n",
    "df_interaction.info()"
   ]
  },
  {
   "cell_type": "code",
   "execution_count": 8,
   "metadata": {},
   "outputs": [],
   "source": [
    "df_interaction.fillna(0, inplace=True)"
   ]
  },
  {
   "cell_type": "code",
   "execution_count": 9,
   "metadata": {},
   "outputs": [],
   "source": [
    "# Link between movieId and tmdbId\n",
    "df_links = pd.read_csv(\"data/links_small.csv\", usecols=['movieId', 'tmdbId'])\n",
    "df_links.dropna(inplace=True)\n",
    "df_links.movieId = df_links.movieId.astype(np.int32)\n",
    "df_links.tmdbId = df_links.tmdbId.astype(np.int32)"
   ]
  },
  {
   "cell_type": "code",
   "execution_count": 10,
   "metadata": {},
   "outputs": [],
   "source": [
    "orig_ind = df_interaction.index\n",
    "orig_cols = df_interaction.columns\n",
    "df_shape = df_interaction.shape\n",
    "\n",
    "enc_user = dict(zip(orig_ind, np.arange(df_shape[0])))\n",
    "enc_mov = dict(zip(orig_cols, np.arange(df_shape[1])))\n",
    "\n",
    "dec_user = dict(zip(np.arange(df_shape[0]), orig_ind))\n",
    "dec_mov = dict(zip(np.arange(df_shape[1]), orig_cols))"
   ]
  },
  {
   "cell_type": "code",
   "execution_count": 11,
   "metadata": {},
   "outputs": [],
   "source": [
    "df_interaction.rename(index=enc_user, columns=enc_mov, inplace=True)"
   ]
  },
  {
   "cell_type": "code",
   "execution_count": 12,
   "metadata": {},
   "outputs": [],
   "source": [
    "def movieId_to_title(movieId):\n",
    "    tmdbId = df_links[df_links.movieId == movieId].tmdbId\n",
    "    movie_title = df_movies.set_index('id').loc[tmdbId]\n",
    "    return movie_title.iloc[0]['title']\n",
    "\n",
    "def title_to_movieId(movie_title):\n",
    "    tmdbId = df_movies[df_movies.title == movie_title].id\n",
    "    movieId = df_links[df_links.tmdbId == tmdbId].movieId\n",
    "    return movie_idx.index"
   ]
  },
  {
   "cell_type": "code",
   "execution_count": 13,
   "metadata": {},
   "outputs": [],
   "source": [
    "def get_nearest_ids(idx, interaction_matrix, n_neighbors=5):\n",
    "    model_knn = NearestNeighbors(metric='cosine', algorithm='brute', n_neighbors=20)\n",
    "    model_knn.fit(interaction_matrix)\n",
    "    distances, indices = model_knn.kneighbors(interaction_matrix[idx], n_neighbors=n_neighbors+1)\n",
    "    return distances[0,1:], indices[0,1:]"
   ]
  },
  {
   "cell_type": "code",
   "execution_count": 4,
   "metadata": {},
   "outputs": [],
   "source": [
    "def get_user_top_movie_ratings(user_id, weight=1, num_top_movies=5):\n",
    "    df_user_top_movies = df_ratings[df_ratings.userId == user_id].sort_values('rating', ascending=False)[:num_top_movies]\n",
    "    df_user_top_movies.drop(['userId'], axis=1, inplace=True)\n",
    "    df_user_top_movies.rating *= weight\n",
    "    return df_user_top_movies"
   ]
  },
  {
   "cell_type": "code",
   "execution_count": 15,
   "metadata": {},
   "outputs": [],
   "source": [
    "def recommend_movie_user_user(user_id, df_interaction, num_movies=10):\n",
    "    num_user_neighbors = 5\n",
    "    interaction_matrix = csr_matrix(df_interaction)\n",
    "    dist_list, user_id_list = get_nearest_ids(user_id, interaction_matrix, num_user_neighbors)\n",
    "    df_rec_movies = pd.DataFrame(columns=['movieId', 'rating'])\n",
    "    for dist, user_id in zip(dist_list, user_id_list):\n",
    "        df_rec_movies = df_rec_movies.append(get_user_top_movie_ratings(dec_user[user_id], weight=1.0 - dist), ignore_index=True)\n",
    "    top_recommended_movie_idx = df_rec_movies.sort_values('rating', ascending=False).movieId.unique()[:num_movies]\n",
    "    return top_recommended_movie_idx"
   ]
  },
  {
   "cell_type": "code",
   "execution_count": 16,
   "metadata": {},
   "outputs": [],
   "source": [
    "reco_movieId = recommend_movie_user_user(enc_user[2], df_interaction)"
   ]
  },
  {
   "cell_type": "code",
   "execution_count": 17,
   "metadata": {},
   "outputs": [
    {
     "name": "stdout",
     "output_type": "stream",
     "text": [
      "1: Schindler's List\n",
      "2: What's Eating Gilbert Grape\n",
      "3: The Silence of the Lambs\n",
      "4: Terminator 2: Judgment Day\n",
      "5: Forrest Gump\n",
      "6: The Shawshank Redemption\n",
      "7: Dances with Wolves\n",
      "8: Braveheart\n",
      "9: Ghost\n",
      "10: In the Line of Fire\n"
     ]
    }
   ],
   "source": [
    "i = 0\n",
    "for movieId in reco_movieId:\n",
    "    i += 1\n",
    "    print(f\"{i}: {movieId_to_title(movieId)}\")"
   ]
  },
  {
   "cell_type": "code",
   "execution_count": 18,
   "metadata": {},
   "outputs": [],
   "source": [
    "def recommend_movie_item_item(user_id, df_interaction, num_movies=10):\n",
    "    num_movie_neighbors = 5\n",
    "    interaction_matrix_sparse = csr_matrix(df_interaction).transpose()\n",
    "    user_top_movies = get_user_top_movie_ratings(dec_user[user_id], num_top_movies=5)\n",
    "    df_rec_movies = pd.DataFrame(columns=['movieId', 'rating'])\n",
    "    for i in range(5):\n",
    "        movieId, rating = user_top_movies.iloc[i]['movieId'], user_top_movies.iloc[i]['rating']\n",
    "        dist_list, movieId_list = get_nearest_ids(enc_mov[movieId], interaction_matrix_sparse, num_movie_neighbors)\n",
    "        df_rec_movies = df_rec_movies.append(pd.DataFrame.from_dict({'movieId': movieId_list, 'rating': dist_list*rating}), ignore_index=True)\n",
    "    top_recommended_movie_idx = df_rec_movies.sort_values('rating', ascending=False).movieId.unique()[:num_movies]\n",
    "    return top_recommended_movie_idx"
   ]
  },
  {
   "cell_type": "code",
   "execution_count": 19,
   "metadata": {
    "scrolled": true
   },
   "outputs": [
    {
     "name": "stdout",
     "output_type": "stream",
     "text": [
      "1: Rounders\n",
      "2: The Shining\n",
      "3: Run Lola Run\n",
      "4: Notting Hill\n",
      "5: Ben-Hur\n",
      "6: A Grand Day Out\n",
      "7: Austin Powers: The Spy Who Shagged Me\n",
      "8: Forrest Gump\n",
      "9: Superman II\n",
      "10: Labyrinth\n"
     ]
    }
   ],
   "source": [
    "reco_movieId = recommend_movie_user_user(enc_user[2], df_interaction)\n",
    "i = 0\n",
    "for movieId in reco_movieId:\n",
    "    i += 1\n",
    "    print(f\"{i}: {movieId_to_title(dec_mov[movieId])}\")"
   ]
  },
  {
   "cell_type": "code",
   "execution_count": 5,
   "metadata": {},
   "outputs": [],
   "source": [
    "utp = get_user_top_movie_ratings(2)"
   ]
  },
  {
   "cell_type": "code",
   "execution_count": 6,
   "metadata": {},
   "outputs": [
    {
     "data": {
      "text/html": [
       "<div>\n",
       "<style scoped>\n",
       "    .dataframe tbody tr th:only-of-type {\n",
       "        vertical-align: middle;\n",
       "    }\n",
       "\n",
       "    .dataframe tbody tr th {\n",
       "        vertical-align: top;\n",
       "    }\n",
       "\n",
       "    .dataframe thead th {\n",
       "        text-align: right;\n",
       "    }\n",
       "</style>\n",
       "<table border=\"1\" class=\"dataframe\">\n",
       "  <thead>\n",
       "    <tr style=\"text-align: right;\">\n",
       "      <th></th>\n",
       "      <th>movieId</th>\n",
       "      <th>rating</th>\n",
       "    </tr>\n",
       "  </thead>\n",
       "  <tbody>\n",
       "    <tr>\n",
       "      <th>83</th>\n",
       "      <td>551</td>\n",
       "      <td>5.0</td>\n",
       "    </tr>\n",
       "    <tr>\n",
       "      <th>22</th>\n",
       "      <td>39</td>\n",
       "      <td>5.0</td>\n",
       "    </tr>\n",
       "    <tr>\n",
       "      <th>45</th>\n",
       "      <td>266</td>\n",
       "      <td>5.0</td>\n",
       "    </tr>\n",
       "    <tr>\n",
       "      <th>91</th>\n",
       "      <td>592</td>\n",
       "      <td>5.0</td>\n",
       "    </tr>\n",
       "    <tr>\n",
       "      <th>90</th>\n",
       "      <td>590</td>\n",
       "      <td>5.0</td>\n",
       "    </tr>\n",
       "  </tbody>\n",
       "</table>\n",
       "</div>"
      ],
      "text/plain": [
       "    movieId  rating\n",
       "83      551     5.0\n",
       "22       39     5.0\n",
       "45      266     5.0\n",
       "91      592     5.0\n",
       "90      590     5.0"
      ]
     },
     "execution_count": 6,
     "metadata": {},
     "output_type": "execute_result"
    }
   ],
   "source": [
    "utp"
   ]
  },
  {
   "cell_type": "code",
   "execution_count": 8,
   "metadata": {},
   "outputs": [
    {
     "data": {
      "text/plain": [
       "83    1102\n",
       "22      78\n",
       "45     532\n",
       "91    1184\n",
       "90    1180\n",
       "Name: movieId, dtype: int64"
      ]
     },
     "execution_count": 8,
     "metadata": {},
     "output_type": "execute_result"
    }
   ],
   "source": [
    "utp.movieId.map(lambda mov: mov*2)"
   ]
  },
  {
   "cell_type": "code",
   "execution_count": null,
   "metadata": {},
   "outputs": [],
   "source": []
  }
 ],
 "metadata": {
  "kernelspec": {
   "display_name": "Python 3",
   "language": "python",
   "name": "python3"
  },
  "language_info": {
   "codemirror_mode": {
    "name": "ipython",
    "version": 3
   },
   "file_extension": ".py",
   "mimetype": "text/x-python",
   "name": "python",
   "nbconvert_exporter": "python",
   "pygments_lexer": "ipython3",
   "version": "3.7.7"
  }
 },
 "nbformat": 4,
 "nbformat_minor": 4
}
